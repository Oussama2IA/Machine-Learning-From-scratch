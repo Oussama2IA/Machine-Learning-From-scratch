{
 "cells": [
  {
   "cell_type": "markdown",
   "metadata": {},
   "source": [
    "# Importing libraries"
   ]
  },
  {
   "cell_type": "code",
   "execution_count": 1,
   "metadata": {},
   "outputs": [],
   "source": [
    "import numpy as np\n",
    "from scipy.optimize import linprog, minimize_scalar\n",
    "from numpy.linalg import norm, inv\n",
    "from numdifftools import Gradient"
   ]
  },
  {
   "cell_type": "code",
   "execution_count": 2,
   "metadata": {},
   "outputs": [],
   "source": [
    "def f(x):\n",
    "    return x[0] ** 2 + 3 * x[0] * x[1] + 4 * x[1] ** 2\n",
    "\n",
    "A = np.array([1, 1], dtype=float)\n",
    "b = [1]"
   ]
  },
  {
   "cell_type": "markdown",
   "metadata": {},
   "source": [
    "# Reduced Gradient"
   ]
  },
  {
   "cell_type": "code",
   "execution_count": 3,
   "metadata": {},
   "outputs": [],
   "source": [
    "def reduced_gradient(f, A, b, x0, t):\n",
    "    x = x0\n",
    "    n = len(x)\n",
    "    m = len(b)\n",
    "    B = [*range(0, m)]\n",
    "    R = [*range(m, n)]\n",
    "\n",
    "    while True:\n",
    "        try:\n",
    "            grad = -np.dot(np.dot(inv(A[B]), A[R]).T, Gradient(f)(x)[B]) + Gradient(f)(x)[R]\n",
    "        except:\n",
    "            grad = -np.dot(np.dot(A[B], A[R]).T, Gradient(f)(x)[B]) + Gradient(f)(x)[R]\n",
    "\n",
    "        J = []\n",
    "        k = 0\n",
    "        for j in R:\n",
    "            if grad[k] < 0 or x[j] > 0:\n",
    "                J.append(k)\n",
    "            k = k + 1\n",
    "        \n",
    "        d_R = [d if list(grad).index(d) in J else 0 for d in grad]\n",
    "        \n",
    "        alpha_R = np.inf\n",
    "        k = 0\n",
    "        for j in R:\n",
    "            if grad[k] > 0 and x[j] > 0:\n",
    "                alpha = x[j] / grad[k]\n",
    "                alpha_R = min(alpha_R, alpha)\n",
    "            k = k + 1\n",
    "\n",
    "        try:\n",
    "            d_B = -p.dot(np.dot(inv(A[B]), A[R]), d_R)\n",
    "        except:\n",
    "            d_B = -np.dot(np.dot(A[B], A[R]), d_R)\n",
    "\n",
    "        d = np.array(list(d_B) + list(d_R), dtype=float)\n",
    "\n",
    "        alpha_B = np.inf\n",
    "        for j in B:\n",
    "            if d[j] < 0:\n",
    "                alpha = x[j] / (-d[j])\n",
    "                alpha_B = min(alpha_B, alpha)\n",
    "\n",
    "        alpha_bar = min(alpha_B, alpha_R)\n",
    "        phi = lambda alpha: f(x + alpha * d)\n",
    "        alpha = minimize_scalar(phi, bounds=(0, alpha_bar), method='bounded').x\n",
    "\n",
    "        x = x + alpha * d\n",
    "\n",
    "        if abs(alpha - alpha_B) <= t:\n",
    "            index_r = -1\n",
    "            for i in B:\n",
    "                if x[i] == 0:\n",
    "                    index_r = i\n",
    "                    break\n",
    "            \n",
    "            index_b = -1\n",
    "            for j in R:\n",
    "                if x[j] > 0:\n",
    "                    index_b = j\n",
    "                    break\n",
    "            \n",
    "            if index_r != -1 and index_b != -1:\n",
    "                B[B.index(index_r)] = index_b\n",
    "                R[R.index(index_b)] = index_r\n",
    "            else:\n",
    "                return x\n",
    "        \n",
    "        if norm(d_B) <= t:\n",
    "            return x"
   ]
  },
  {
   "cell_type": "code",
   "execution_count": 4,
   "metadata": {},
   "outputs": [
    {
     "name": "stdout",
     "output_type": "stream",
     "text": [
      "[9.99975825e-01 2.41748506e-05]\n"
     ]
    }
   ],
   "source": [
    "x0 =  [0, 1]\n",
    "x_sol = reduced_gradient(f, A, b, x0, 0.0001)\n",
    "print(x_sol)"
   ]
  }
 ],
 "metadata": {
  "kernelspec": {
   "display_name": "Python 3 (ipykernel)",
   "language": "python",
   "name": "python3"
  },
  "language_info": {
   "codemirror_mode": {
    "name": "ipython",
    "version": 3
   },
   "file_extension": ".py",
   "mimetype": "text/x-python",
   "name": "python",
   "nbconvert_exporter": "python",
   "pygments_lexer": "ipython3",
   "version": "3.9.7"
  }
 },
 "nbformat": 4,
 "nbformat_minor": 2
}
