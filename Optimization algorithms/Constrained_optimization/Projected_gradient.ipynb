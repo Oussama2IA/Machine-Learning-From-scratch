{
 "metadata": {
  "language_info": {
   "codemirror_mode": {
    "name": "ipython",
    "version": 3
   },
   "file_extension": ".py",
   "mimetype": "text/x-python",
   "name": "python",
   "nbconvert_exporter": "python",
   "pygments_lexer": "ipython3",
   "version": "3.9.4"
  },
  "orig_nbformat": 2,
  "kernelspec": {
   "name": "venv",
   "display_name": "Python 3.9.4  ('venv': venv)"
  }
 },
 "nbformat": 4,
 "nbformat_minor": 2,
 "cells": [
  {
   "cell_type": "code",
   "execution_count": 1,
   "metadata": {},
   "outputs": [],
   "source": [
    "import numpy as np\n",
    "from scipy.optimize import linprog, minimize_scalar\n",
    "from numpy.linalg import norm, inv, multi_dot\n",
    "from numdifftools import Gradient"
   ]
  },
  {
   "cell_type": "code",
   "execution_count": 2,
   "metadata": {},
   "outputs": [],
   "source": [
    "def f(x):\n",
    "    return 0.5 * ((x[0] ** 2) + (x[1] ** 2))\n",
    "\n",
    "A = np.array([[-1, 1], [1, 1], [0, -1]], dtype=float)\n",
    "b = [7, 5, -2]"
   ]
  },
  {
   "source": [
    "# Projected gradient algorithm"
   ],
   "cell_type": "markdown",
   "metadata": {}
  },
  {
   "cell_type": "code",
   "execution_count": 3,
   "metadata": {},
   "outputs": [],
   "source": [
    "def projected_gradient(f, A, b, x0, tol, t=3):\n",
    "    x = x0\n",
    "    m = len(A)\n",
    "    \n",
    "    while True:\n",
    "        grad = Gradient(f)(x)\n",
    "        I = []\n",
    "        for i in range(m):\n",
    "            if abs(np.vdot(A[i], x) - b[i]) < tol:\n",
    "                I.append(i)\n",
    "        v = -multi_dot([inv(np.dot(A[I], A[I].T)), A[I], grad])\n",
    "        d = -grad - np.dot(A[I].T, v)\n",
    "\n",
    "        alpha_bar = np.inf\n",
    "        for i in range(m):\n",
    "            a = np.vdot(A[i], d)\n",
    "            if (i not in I) and (a > 0):\n",
    "                alpha = (b[i] - np.vdot(A[i], x)) / a\n",
    "                alpha_bar = min(alpha_bar, alpha)\n",
    "\n",
    "        phi = lambda alpha: f(x + alpha * d)\n",
    "        alpha = minimize_scalar(phi, bounds=(0, alpha_bar), method='bounded').x\n",
    "        x = x + alpha * d\n",
    "\n",
    "        if norm(d) <= t:\n",
    "            return x"
   ]
  },
  {
   "cell_type": "code",
   "execution_count": 4,
   "metadata": {},
   "outputs": [
    {
     "output_type": "stream",
     "name": "stdout",
     "text": [
      "[-4.44089210e-16  2.00001524e+00]\n"
     ]
    }
   ],
   "source": [
    "x0 = [-2, 3]\n",
    "x_sol = projected_gradient(f, A, b, x0, 0.0001)\n",
    "print(x_sol)"
   ]
  }
 ]
}