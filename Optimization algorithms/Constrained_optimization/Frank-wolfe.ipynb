{
 "metadata": {
  "language_info": {
   "codemirror_mode": {
    "name": "ipython",
    "version": 3
   },
   "file_extension": ".py",
   "mimetype": "text/x-python",
   "name": "python",
   "nbconvert_exporter": "python",
   "pygments_lexer": "ipython3",
   "version": "3.9.4"
  },
  "orig_nbformat": 2,
  "kernelspec": {
   "name": "venv",
   "display_name": "Python 3.9.4  ('venv': venv)"
  }
 },
 "nbformat": 4,
 "nbformat_minor": 2,
 "cells": [
  {
   "cell_type": "code",
   "execution_count": 1,
   "metadata": {},
   "outputs": [],
   "source": [
    "import numpy as np\n",
    "from scipy.optimize import linprog, minimize_scalar\n",
    "from scipy.linalg import norm\n",
    "from numdifftools import Gradient"
   ]
  },
  {
   "cell_type": "code",
   "execution_count": 2,
   "metadata": {},
   "outputs": [],
   "source": [
    "def f(x):\n",
    "    return 0.5 * ((x[0] ** 2) + (x[1] ** 2))\n",
    "\n",
    "A = np.array([[-1, 1], [1, 1], [0, -1]], dtype=float)\n",
    "b = [7, 5, -2]"
   ]
  },
  {
   "source": [
    "# Frank-Wolfe algorithm"
   ],
   "cell_type": "markdown",
   "metadata": {}
  },
  {
   "cell_type": "code",
   "execution_count": 3,
   "metadata": {},
   "outputs": [],
   "source": [
    "def frank_wolfe(f, A, b, x0, t1=0.8, t2=0.1):\n",
    "    x = x0\n",
    "    \n",
    "    while True:\n",
    "        c = Gradient(f)(x)\n",
    "        y = linprog(c, A_ub=A, b_ub=b).x\n",
    "        d = y - x\n",
    "\n",
    "        phi = lambda alpha: f(x + alpha * d)\n",
    "        alpha = minimize_scalar(phi, bounds=(0, 1), method='bounded').x\n",
    "        x = x + alpha * d\n",
    "\n",
    "        if alpha >= t1 and norm(d) >= t2:\n",
    "            return x"
   ]
  },
  {
   "cell_type": "code",
   "execution_count": 4,
   "metadata": {},
   "outputs": [
    {
     "output_type": "stream",
     "name": "stdout",
     "text": [
      "[2.98043059e-06 2.00000298e+00]\n"
     ]
    }
   ],
   "source": [
    "x0 = [-2, 3]\n",
    "x_sol = frank_wolfe(f, A, b, x0)\n",
    "print(x_sol)"
   ]
  }
 ]
}