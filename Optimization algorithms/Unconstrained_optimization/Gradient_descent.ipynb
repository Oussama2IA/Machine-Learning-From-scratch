{
 "metadata": {
  "language_info": {
   "codemirror_mode": {
    "name": "ipython",
    "version": 3
   },
   "file_extension": ".py",
   "mimetype": "text/x-python",
   "name": "python",
   "nbconvert_exporter": "python",
   "pygments_lexer": "ipython3",
   "version": "3.9.4"
  },
  "orig_nbformat": 2,
  "kernelspec": {
   "name": "venv",
   "display_name": "Python 3.9.4  ('venv': venv)"
  }
 },
 "nbformat": 4,
 "nbformat_minor": 2,
 "cells": [
  {
   "cell_type": "code",
   "execution_count": 1,
   "metadata": {},
   "outputs": [],
   "source": [
    "%%capture\n",
    "import sys\n",
    "import numpy as np\n",
    "from numdifftools import Gradient\n",
    "from scipy.linalg import norm\n",
    "%run Line_search.ipynb\n",
    "%run Backtracking_line_search.ipynb"
   ]
  },
  {
   "source": [
    "# Using line search methods"
   ],
   "cell_type": "markdown",
   "metadata": {}
  },
  {
   "cell_type": "code",
   "execution_count": 2,
   "metadata": {},
   "outputs": [],
   "source": [
    "def gradient_descent(f, x0, tol):\n",
    "    x = x0\n",
    "    d = Gradient(f)(x)\n",
    "    while norm(d) > tol:\n",
    "        phi = lambda alpha: f(x - alpha * d)\n",
    "        alpha = max(0, newton_raphson(phi, -1, tol))\n",
    "        x = x - d * alpha\n",
    "        d = Gradient(f)(x)\n",
    "    return x"
   ]
  },
  {
   "cell_type": "code",
   "execution_count": 3,
   "metadata": {},
   "outputs": [
    {
     "output_type": "stream",
     "name": "stdout",
     "text": [
      "[-5.77902171e-11  2.88680191e-11 -1.15579768e-11]\n"
     ]
    }
   ],
   "source": [
    "sphere_function = lambda x: np.sum(np.power(x, 2), axis=0)\n",
    "x0 = [-5, 2.5, -1]\n",
    "x_sol = gradient_descent(sphere_function, x0, 0.0001)\n",
    "print(x_sol)"
   ]
  },
  {
   "source": [
    "# Using backtracking line search methods"
   ],
   "cell_type": "markdown",
   "metadata": {}
  },
  {
   "cell_type": "code",
   "execution_count": 4,
   "metadata": {},
   "outputs": [],
   "source": [
    "def gradient_descent(f, x0, tol):\n",
    "    x = x0\n",
    "    d = Gradient(f)(x)\n",
    "    while norm(d) > tol:\n",
    "        phi = lambda alpha: f(x - alpha * d)\n",
    "        alpha = armijo(phi)\n",
    "        x = x - d * alpha\n",
    "        d = Gradient(f)(x)\n",
    "    return x"
   ]
  },
  {
   "cell_type": "code",
   "execution_count": 5,
   "metadata": {},
   "outputs": [
    {
     "output_type": "stream",
     "name": "stdout",
     "text": [
      "[-0.  0.  0.]\n"
     ]
    }
   ],
   "source": [
    "def sum_of_diffrent_powers_function(x):\n",
    "    d = len(x)\n",
    "    res = 0\n",
    "    for i in range(d):\n",
    "        res = res + pow(abs(x[i]), i + 1)\n",
    "    return res\n",
    "\n",
    "x0 = [-0.5, 1, 0.5]\n",
    "x_sol = gradient_descent(sum_of_diffrent_powers_function, x0, 0.0001)\n",
    "print(np.round(x_sol))"
   ]
  }
 ]
}